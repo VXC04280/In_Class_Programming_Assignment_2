{
  "nbformat": 4,
  "nbformat_minor": 0,
  "metadata": {
    "colab": {
      "provenance": []
    },
    "kernelspec": {
      "name": "python3",
      "display_name": "Python 3"
    },
    "language_info": {
      "name": "python"
    }
  },
  "cells": [
    {
      "cell_type": "code",
      "execution_count": null,
      "metadata": {
        "id": "dla2rkwirxJL"
      },
      "outputs": [],
      "source": [
        "'''\n",
        "Machine Learning (CS 5710)\n",
        "Assignment - 2\n",
        "Vinay Kumr Camarushi (700740428)\n",
        "'''"
      ]
    },
    {
      "cell_type": "markdown",
      "source": [
        "Question - 1)\n",
        "Use a python code to display the following star pattern using the for loop"
      ],
      "metadata": {
        "id": "IPxRTU80r7zZ"
      }
    },
    {
      "cell_type": "code",
      "source": [
        "# Use a python code to display the following star pattern using the for loop\n",
        "rows = 5 # taking the maximum number (mid row) of stars in the pattern as input\n",
        "# Intializing the upper part of the star \n",
        "for i in range(0, rows): # Running a for loop to run over the number of the rows in the upper part of the pattern\n",
        "    for j in range(0, i + 1): # Running a nested for loop to run over the number of elemenets in each row in the upper part of the pattern\n",
        "        print(\"*\", end=' ') # Printing stars in each row\n",
        "    print(\"\\r\") #printing carriage return\n",
        "\n",
        "# Intializing the lower part of the pattern\n",
        "for i in range(rows, 0, -1): #Running a for loop to run over the number of the rows in the lower part of the pattern\n",
        "    for j in range(0, i - 1): # Running a nested for loop to run over the number of elemenets in each row in the lower part of the pattern\n",
        "        print(\"*\", end=' ') # Printing stars in each row\n",
        "    print(\"\\r\") # printing carriage return"
      ],
      "metadata": {
        "colab": {
          "base_uri": "https://localhost:8080/"
        },
        "id": "FuPgdgTXr3IB",
        "outputId": "c684dfb2-6b98-4753-922f-2f01cf5bb21e"
      },
      "execution_count": 21,
      "outputs": [
        {
          "output_type": "stream",
          "name": "stdout",
          "text": [
            "* \r\n",
            "* * \r\n",
            "* * * \r\n",
            "* * * * \r\n",
            "* * * * * \r\n",
            "* * * * \r\n",
            "* * * \r\n",
            "* * \r\n",
            "* \r\n",
            "\r\n"
          ]
        }
      ]
    },
    {
      "cell_type": "markdown",
      "source": [
        "Question - 2) \n",
        ". Use looping to output the elements from a provided list present at odd indexes.\n",
        "my_list = [10, 20, 30, 40, 50, 60, 70, 80, 90, 100]"
      ],
      "metadata": {
        "id": "63vQxzG8tzIa"
      }
    },
    {
      "cell_type": "code",
      "source": [
        "my_list = [10, 20, 30, 40, 50, 60, 70, 80, 90, 100] # input list of the numbers\n",
        "output_list = [] # creating an empty list to store the output\n",
        "for i in range(0,len(my_list)): # Running a for loop to iterate over the list of elements\n",
        "  if i%2 == 1: # Checking if the index of the list is odd or not\n",
        "    output_list.append(my_list[i]) # Appending the elements of my_list to the outpit list if the index is odd\n",
        "print(output_list) # printing the output list"
      ],
      "metadata": {
        "colab": {
          "base_uri": "https://localhost:8080/"
        },
        "id": "4FrfBq57t4rC",
        "outputId": "20e6bae2-bd13-4529-9f60-aa4da7a406e7"
      },
      "execution_count": 22,
      "outputs": [
        {
          "output_type": "stream",
          "name": "stdout",
          "text": [
            "[20, 40, 60, 80, 100]\n"
          ]
        }
      ]
    },
    {
      "cell_type": "markdown",
      "source": [
        "Question - 3)\n",
        "Write a code that appends the type of elements from a given list.\n",
        "Input\n",
        " x = [23, ‘Python’, 23.98]\n",
        " Expected output\n",
        " [23, 'Python', 23.98]\n",
        " [<class 'int'>, <class 'str'>, <class 'float'>]"
      ],
      "metadata": {
        "id": "BhSaGIamuOX5"
      }
    },
    {
      "cell_type": "code",
      "source": [
        "x = [23, 'Python', 23.98] # Input list of elements\n",
        "type_x = [] # Creating an empty list to store the type of the element of the list\n",
        "for i in range(0,len(x)): # Running a for loop to append the type of the elements of the list into type_x list\n",
        "  type_x.append(type(x[i])) # Appending the type of the list x to the list type_x\n",
        "\n",
        "print(type_x) # Printing the output list "
      ],
      "metadata": {
        "colab": {
          "base_uri": "https://localhost:8080/"
        },
        "id": "y3NRSMX5uV1r",
        "outputId": "df71e680-cd4f-4182-c567-6d4987447cab"
      },
      "execution_count": 23,
      "outputs": [
        {
          "output_type": "stream",
          "name": "stdout",
          "text": [
            "[<class 'int'>, <class 'str'>, <class 'float'>]\n"
          ]
        }
      ]
    },
    {
      "cell_type": "markdown",
      "source": [
        "Question - 4)\n",
        "Write a function that takes a list and returns a new list with unique items of the first list.\n",
        "Sample List: [1,2,3,3,3,3,4,5]\n",
        "Unique List: [1, 2, 3, 4, 5]"
      ],
      "metadata": {
        "id": "cjkgI6RNusIy"
      }
    },
    {
      "cell_type": "code",
      "source": [
        "def unique_list(input): # A defintion to take a list as an input and return the unique elements of the list as an output\n",
        "  return (list(set(input))) #returning the list which is converted into set to eliminate the duplicate values \n",
        "\n",
        "input_list = [1,2,3,3,3,3,4,5] # taking input list\n",
        "\n",
        "output_list = unique_list(input_list) # Calling the function and storing the returned output to output_list variable\n",
        "\n",
        "print(output_list) # printing the output list"
      ],
      "metadata": {
        "colab": {
          "base_uri": "https://localhost:8080/"
        },
        "id": "sv4tF-rWuyXv",
        "outputId": "6947af1a-6079-4e44-ef6b-552fa530661d"
      },
      "execution_count": 24,
      "outputs": [
        {
          "output_type": "execute_result",
          "data": {
            "text/plain": [
              "[1, 2, 3, 4, 5]"
            ]
          },
          "metadata": {},
          "execution_count": 24
        }
      ]
    },
    {
      "cell_type": "markdown",
      "source": [
        "Question - 5)\n",
        "Write a function that accepts a string and calculate the number of upper-case letters and lower-case\n",
        "letters.\n",
        "Input String: 'The quick Brow Fox'\n",
        "Expected Output:\n",
        "No. of Upper-case characters: 3\n",
        "No. of Lower-case Characters: 12"
      ],
      "metadata": {
        "id": "qn8iJ9CcvH7Q"
      }
    },
    {
      "cell_type": "code",
      "source": [
        "def char_counter(s): # Defining a function to take the string as an input and which returns the no. of uppercase and lowercase characters\n",
        "  upper = 0 # Initializing a variable to store the no. of uppercase characters\n",
        "  lower = 0 # Initializing a variable to store the no. of lowercase characters\n",
        "  for i in s: # Running a for loop to iterate over the given string\n",
        "    if i.islower(): # checking if the character is lowercase\n",
        "      lower+= 1 # If the checked character is lowercase then the lower variba;e will be incremented by 1\n",
        "    elif i.isupper():# checking if the character is uppercase\n",
        "      upper+= 1  # If the checked character is uppercase then the lower variba;e will be incremented by 1\n",
        "\n",
        "\n",
        "  print(\"No. of Upper-case characters:{} \\nNo. of Lower-case Characters:{}\".format(upper,lower)) # Printing the output as per given format\n",
        "\n",
        "input_string = 'The quick Brow Fox' # Taking the string output\n",
        "\n",
        "char_counter(input_string) # Calling the function to get the output as per given format"
      ],
      "metadata": {
        "colab": {
          "base_uri": "https://localhost:8080/"
        },
        "id": "av20h9DnvRLR",
        "outputId": "ca02e53b-31fc-4359-cc9e-e9af9c000c75"
      },
      "execution_count": 25,
      "outputs": [
        {
          "output_type": "stream",
          "name": "stdout",
          "text": [
            "No. of Upper-case characters:3 \n",
            "No. of Lower-case Characters:12\n"
          ]
        }
      ]
    }
  ]
}